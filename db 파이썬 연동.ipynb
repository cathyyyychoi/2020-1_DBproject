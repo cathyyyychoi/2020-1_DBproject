{
 "cells": [
  {
   "cell_type": "code",
   "execution_count": 171,
   "metadata": {},
   "outputs": [],
   "source": [
    "import cx_Oracle\n",
    "import pandas as pd"
   ]
  },
  {
   "cell_type": "code",
   "execution_count": 207,
   "metadata": {},
   "outputs": [],
   "source": [
    "dsn = cx_Oracle.makedsn(\"localhost\",1521,\"xe\")"
   ]
  },
  {
   "cell_type": "code",
   "execution_count": 208,
   "metadata": {},
   "outputs": [],
   "source": [
    "conn = cx_Oracle.connect(\"me_admin\",\"KY\",dsn)"
   ]
  },
  {
   "cell_type": "code",
   "execution_count": 174,
   "metadata": {},
   "outputs": [
    {
     "data": {
      "text/plain": [
       "[('uID',), ('uID',), ('uID',), ('uID',), ('uID',), ('uID',)]"
      ]
     },
     "execution_count": 174,
     "metadata": {},
     "output_type": "execute_result"
    }
   ],
   "source": [
    "cursor = conn.cursor()\n",
    "cursor.execute(\"select 'uID' from applyuser\")\n",
    "cursor.fetchall()"
   ]
  },
  {
   "cell_type": "code",
   "execution_count": 189,
   "metadata": {},
   "outputs": [],
   "source": [
    "data = pd.read_csv('/Users/apple/Downloads/applyuser.csv')"
   ]
  },
  {
   "cell_type": "code",
   "execution_count": 190,
   "metadata": {},
   "outputs": [
    {
     "data": {
      "text/html": [
       "<div>\n",
       "<style scoped>\n",
       "    .dataframe tbody tr th:only-of-type {\n",
       "        vertical-align: middle;\n",
       "    }\n",
       "\n",
       "    .dataframe tbody tr th {\n",
       "        vertical-align: top;\n",
       "    }\n",
       "\n",
       "    .dataframe thead th {\n",
       "        text-align: right;\n",
       "    }\n",
       "</style>\n",
       "<table border=\"1\" class=\"dataframe\">\n",
       "  <thead>\n",
       "    <tr style=\"text-align: right;\">\n",
       "      <th></th>\n",
       "      <th>uID</th>\n",
       "      <th>uname</th>\n",
       "      <th>uage</th>\n",
       "      <th>upoint</th>\n",
       "      <th>usex</th>\n",
       "    </tr>\n",
       "  </thead>\n",
       "  <tbody>\n",
       "    <tr>\n",
       "      <th>0</th>\n",
       "      <td>abc123</td>\n",
       "      <td>kim</td>\n",
       "      <td>22</td>\n",
       "      <td>NaN</td>\n",
       "      <td>F</td>\n",
       "    </tr>\n",
       "    <tr>\n",
       "      <th>1</th>\n",
       "      <td>didah2016</td>\n",
       "      <td>yoonji</td>\n",
       "      <td>25</td>\n",
       "      <td>NaN</td>\n",
       "      <td>M</td>\n",
       "    </tr>\n",
       "    <tr>\n",
       "      <th>2</th>\n",
       "      <td>cathy</td>\n",
       "      <td>gayoung</td>\n",
       "      <td>23</td>\n",
       "      <td>NaN</td>\n",
       "      <td>F</td>\n",
       "    </tr>\n",
       "    <tr>\n",
       "      <th>3</th>\n",
       "      <td>kwak1210</td>\n",
       "      <td>kwak</td>\n",
       "      <td>27</td>\n",
       "      <td>NaN</td>\n",
       "      <td>M</td>\n",
       "    </tr>\n",
       "    <tr>\n",
       "      <th>4</th>\n",
       "      <td>abc1234</td>\n",
       "      <td>park</td>\n",
       "      <td>24</td>\n",
       "      <td>NaN</td>\n",
       "      <td>F</td>\n",
       "    </tr>\n",
       "    <tr>\n",
       "      <th>5</th>\n",
       "      <td>def80</td>\n",
       "      <td>choi</td>\n",
       "      <td>30</td>\n",
       "      <td>NaN</td>\n",
       "      <td>M</td>\n",
       "    </tr>\n",
       "  </tbody>\n",
       "</table>\n",
       "</div>"
      ],
      "text/plain": [
       "         uID    uname  uage  upoint usex\n",
       "0     abc123      kim    22     NaN    F\n",
       "1  didah2016   yoonji    25     NaN    M\n",
       "2      cathy  gayoung    23     NaN    F\n",
       "3   kwak1210     kwak    27     NaN    M\n",
       "4    abc1234     park    24     NaN    F\n",
       "5      def80     choi    30     NaN    M"
      ]
     },
     "execution_count": 190,
     "metadata": {},
     "output_type": "execute_result"
    }
   ],
   "source": [
    "data"
   ]
  },
  {
   "cell_type": "code",
   "execution_count": 191,
   "metadata": {},
   "outputs": [],
   "source": [
    "qry = \"select * from applyuser\"\n",
    "df_applyuser = pd.read_sql(qry,con=db)"
   ]
  },
  {
   "cell_type": "code",
   "execution_count": 192,
   "metadata": {},
   "outputs": [
    {
     "data": {
      "text/html": [
       "<div>\n",
       "<style scoped>\n",
       "    .dataframe tbody tr th:only-of-type {\n",
       "        vertical-align: middle;\n",
       "    }\n",
       "\n",
       "    .dataframe tbody tr th {\n",
       "        vertical-align: top;\n",
       "    }\n",
       "\n",
       "    .dataframe thead th {\n",
       "        text-align: right;\n",
       "    }\n",
       "</style>\n",
       "<table border=\"1\" class=\"dataframe\">\n",
       "  <thead>\n",
       "    <tr style=\"text-align: right;\">\n",
       "      <th></th>\n",
       "      <th>uID</th>\n",
       "      <th>uname</th>\n",
       "      <th>uage</th>\n",
       "      <th>upoint</th>\n",
       "      <th>usex</th>\n",
       "    </tr>\n",
       "  </thead>\n",
       "  <tbody>\n",
       "    <tr>\n",
       "      <th>0</th>\n",
       "      <td>abc123</td>\n",
       "      <td>kim</td>\n",
       "      <td>22</td>\n",
       "      <td>0</td>\n",
       "      <td>F</td>\n",
       "    </tr>\n",
       "    <tr>\n",
       "      <th>1</th>\n",
       "      <td>didah2016</td>\n",
       "      <td>yoonji</td>\n",
       "      <td>25</td>\n",
       "      <td>0</td>\n",
       "      <td>M</td>\n",
       "    </tr>\n",
       "    <tr>\n",
       "      <th>2</th>\n",
       "      <td>cathy</td>\n",
       "      <td>gayoung</td>\n",
       "      <td>23</td>\n",
       "      <td>0</td>\n",
       "      <td>F</td>\n",
       "    </tr>\n",
       "    <tr>\n",
       "      <th>3</th>\n",
       "      <td>kwak1210</td>\n",
       "      <td>kwak</td>\n",
       "      <td>27</td>\n",
       "      <td>0</td>\n",
       "      <td>M</td>\n",
       "    </tr>\n",
       "    <tr>\n",
       "      <th>4</th>\n",
       "      <td>abc1234</td>\n",
       "      <td>park</td>\n",
       "      <td>24</td>\n",
       "      <td>0</td>\n",
       "      <td>F</td>\n",
       "    </tr>\n",
       "    <tr>\n",
       "      <th>5</th>\n",
       "      <td>def80</td>\n",
       "      <td>choi</td>\n",
       "      <td>30</td>\n",
       "      <td>0</td>\n",
       "      <td>M</td>\n",
       "    </tr>\n",
       "  </tbody>\n",
       "</table>\n",
       "</div>"
      ],
      "text/plain": [
       "         uID    uname  uage  upoint usex\n",
       "0     abc123      kim    22       0   F \n",
       "1  didah2016   yoonji    25       0   M \n",
       "2      cathy  gayoung    23       0   F \n",
       "3   kwak1210     kwak    27       0   M \n",
       "4    abc1234     park    24       0   F \n",
       "5      def80     choi    30       0   M "
      ]
     },
     "execution_count": 192,
     "metadata": {},
     "output_type": "execute_result"
    }
   ],
   "source": [
    "df_applyuser"
   ]
  },
  {
   "cell_type": "code",
   "execution_count": 193,
   "metadata": {},
   "outputs": [],
   "source": [
    "ls = []\n",
    "for i in range(len(data)):\n",
    "    tmp = str(data.uID[i]), str(data.uname[i]), int(data.uage[i]), str(data.usex[i])\n",
    "    ls.append(tmp)"
   ]
  },
  {
   "cell_type": "code",
   "execution_count": 194,
   "metadata": {},
   "outputs": [
    {
     "name": "stdout",
     "output_type": "stream",
     "text": [
      "[('abc123', 'kim', 22, 'F'), ('didah2016', 'yoonji', 25, 'M'), ('cathy', 'gayoung', 23, 'F'), ('kwak1210', 'kwak', 27, 'M'), ('abc1234', 'park', 24, 'F'), ('def80', 'choi', 30, 'M')]\n"
     ]
    }
   ],
   "source": [
    "print(ls)"
   ]
  },
  {
   "cell_type": "code",
   "execution_count": 181,
   "metadata": {},
   "outputs": [
    {
     "name": "stdout",
     "output_type": "stream",
     "text": [
      "('abc123', 'kim', 22, 'F')\n"
     ]
    }
   ],
   "source": [
    "print(ls[0])"
   ]
  },
  {
   "cell_type": "code",
   "execution_count": 182,
   "metadata": {},
   "outputs": [
    {
     "ename": "IntegrityError",
     "evalue": "ORA-00001: unique constraint (ME_ADMIN.APPLYUSER_PK) violated",
     "output_type": "error",
     "traceback": [
      "\u001b[0;31m---------------------------------------------------------------------------\u001b[0m",
      "\u001b[0;31mIntegrityError\u001b[0m                            Traceback (most recent call last)",
      "\u001b[0;32m<ipython-input-182-315533c85700>\u001b[0m in \u001b[0;36m<module>\u001b[0;34m\u001b[0m\n\u001b[1;32m      3\u001b[0m \u001b[0;34m\u001b[0m\u001b[0m\n\u001b[1;32m      4\u001b[0m \u001b[0;32mfor\u001b[0m \u001b[0mrow\u001b[0m \u001b[0;32min\u001b[0m \u001b[0mls\u001b[0m\u001b[0;34m:\u001b[0m\u001b[0;34m\u001b[0m\u001b[0;34m\u001b[0m\u001b[0m\n\u001b[0;32m----> 5\u001b[0;31m     \u001b[0mcursor\u001b[0m\u001b[0;34m.\u001b[0m\u001b[0mexecute\u001b[0m\u001b[0;34m(\u001b[0m\u001b[0minsert_qry\u001b[0m\u001b[0;34m,\u001b[0m \u001b[0mrow\u001b[0m\u001b[0;34m)\u001b[0m\u001b[0;34m\u001b[0m\u001b[0;34m\u001b[0m\u001b[0m\n\u001b[0m\u001b[1;32m      6\u001b[0m \u001b[0;34m\u001b[0m\u001b[0m\n\u001b[1;32m      7\u001b[0m \u001b[0mcursor\u001b[0m\u001b[0;34m.\u001b[0m\u001b[0mclose\u001b[0m\u001b[0;34m(\u001b[0m\u001b[0;34m)\u001b[0m\u001b[0;34m\u001b[0m\u001b[0;34m\u001b[0m\u001b[0m\n",
      "\u001b[0;31mIntegrityError\u001b[0m: ORA-00001: unique constraint (ME_ADMIN.APPLYUSER_PK) violated"
     ]
    }
   ],
   "source": [
    "cursor = conn.cursor()\n",
    "insert_qry = (\"INSERT INTO APPLYUSER(\\\"uID\\\",\\\"uname\\\",\\\"uage\\\",\\\"usex\\\")\" \"VALUES(:1,:2,:3,:4)\")\n",
    "\n",
    "\n",
    "for row in ls:\n",
    "    cursor.execute(insert_qry, row)\n",
    "    \n",
    "cursor.close()\n",
    "conn.commit()\n",
    "conn.close()"
   ]
  },
  {
   "cell_type": "code",
   "execution_count": 220,
   "metadata": {},
   "outputs": [],
   "source": [
    "docdata = pd.read_csv('/Users/apple/Documents/DOCAPPLY.csv')\n",
    "new_data=docdata.fillna(0)"
   ]
  },
  {
   "cell_type": "code",
   "execution_count": 221,
   "metadata": {},
   "outputs": [
    {
     "name": "stdout",
     "output_type": "stream",
     "text": [
      "[('abc1234', 'Samsung', 950, 3, 'P', 4.1, 'SEOUL', 'Computer', 12), ('didah2016', 'Samsung', 900, 4, 'P', 3.9, 'SEOUL', 'Computer', 8), ('def80', 'LG', 850, 5, 'F', 3.0, 'SEOUL', 'Computer', 4), ('abc123', 'LG', 920, 3, 'P', 3.5, 'SEOUL', 'Computer', 0), ('kwak1210', 'LG', 800, 0, 'F', 0.0, '0', '0', 0)]\n"
     ]
    }
   ],
   "source": [
    "docls = []\n",
    "for i in range(5):\n",
    "    tmp = str(new_data.uID[i]),str(new_data.ucompany[i]), int(new_data.uTOEIC_score[i]),int(new_data.ucertificate_num[i]), str(new_data.uDOC_PASSFAIL[i]), float(new_data.uGPA[i]), str(new_data.uschool[i]), str(new_data.umajor[i]), int(new_data.uintern_period[i])\n",
    "    docls.append(tmp)\n",
    "    \n",
    "print(docls)"
   ]
  },
  {
   "cell_type": "code",
   "execution_count": 222,
   "metadata": {},
   "outputs": [],
   "source": [
    "conn = cx_Oracle.connect(\"me_admin\",\"KY\",dsn)\n",
    "cursor = conn.cursor()\n",
    "insert_qry = (\"INSERT INTO DOCAPPLY VALUES(:1,:2,:3,:4,:5,:6,:7,:8,:9)\")\n",
    "\n",
    "for row in docls:\n",
    "    cursor.execute(insert_qry, row)\n",
    "    \n",
    "cursor.close()\n",
    "conn.commit()\n",
    "conn.close()"
   ]
  },
  {
   "cell_type": "code",
   "execution_count": null,
   "metadata": {},
   "outputs": [],
   "source": []
  },
  {
   "cell_type": "code",
   "execution_count": null,
   "metadata": {},
   "outputs": [],
   "source": []
  }
 ],
 "metadata": {
  "kernelspec": {
   "display_name": "Python 3",
   "language": "python",
   "name": "python3"
  },
  "language_info": {
   "codemirror_mode": {
    "name": "ipython",
    "version": 3
   },
   "file_extension": ".py",
   "mimetype": "text/x-python",
   "name": "python",
   "nbconvert_exporter": "python",
   "pygments_lexer": "ipython3",
   "version": "3.7.6"
  }
 },
 "nbformat": 4,
 "nbformat_minor": 2
}
